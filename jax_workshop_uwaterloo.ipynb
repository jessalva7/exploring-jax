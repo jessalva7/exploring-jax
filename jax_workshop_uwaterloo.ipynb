{
  "nbformat": 4,
  "nbformat_minor": 0,
  "metadata": {
    "colab": {
      "name": "jax-workshop-uwaterloo.ipynb",
      "provenance": [],
      "collapsed_sections": []
    },
    "kernelspec": {
      "name": "python3",
      "display_name": "Python 3"
    },
    "accelerator": "GPU"
  },
  "cells": [
    {
      "cell_type": "code",
      "metadata": {
        "id": "Nf1TvfyjUxLJ"
      },
      "source": [
        "import jax\n",
        "import jax.numpy as jnp"
      ],
      "execution_count": 1,
      "outputs": []
    },
    {
      "cell_type": "code",
      "metadata": {
        "id": "kYxi937dVHXQ"
      },
      "source": [
        "a = jnp.array(2.)"
      ],
      "execution_count": 32,
      "outputs": []
    },
    {
      "cell_type": "code",
      "metadata": {
        "id": "3ernoSdmVQHc"
      },
      "source": [
        "b = jnp.array([1., 2., 3., 4.])\n",
        "x = jnp.array([4., 4., 4., 4.])"
      ],
      "execution_count": 49,
      "outputs": []
    },
    {
      "cell_type": "code",
      "metadata": {
        "id": "e1f_PIFOVdD2"
      },
      "source": [
        "def f(a, b, x):\n",
        "  return a * jnp.dot(b,x)"
      ],
      "execution_count": 50,
      "outputs": []
    },
    {
      "cell_type": "code",
      "metadata": {
        "colab": {
          "base_uri": "https://localhost:8080/"
        },
        "id": "FM23_oXIV7jF",
        "outputId": "0138fca1-03aa-44c5-a32c-7f035994f2f7"
      },
      "source": [
        "f(a,b,x)"
      ],
      "execution_count": 51,
      "outputs": [
        {
          "output_type": "execute_result",
          "data": {
            "text/plain": [
              "DeviceArray(80., dtype=float32)"
            ]
          },
          "metadata": {
            "tags": []
          },
          "execution_count": 51
        }
      ]
    },
    {
      "cell_type": "code",
      "metadata": {
        "colab": {
          "base_uri": "https://localhost:8080/"
        },
        "id": "-q37-WmaV-3V",
        "outputId": "fdeb4243-dacf-482a-ac07-6a51e266903c"
      },
      "source": [
        "grad_f = jax.grad(fun=f, argnums=2)\n",
        "grad_f(a,b,x)"
      ],
      "execution_count": 52,
      "outputs": [
        {
          "output_type": "execute_result",
          "data": {
            "text/plain": [
              "DeviceArray([2., 4., 6., 8.], dtype=float32)"
            ]
          },
          "metadata": {
            "tags": []
          },
          "execution_count": 52
        }
      ]
    },
    {
      "cell_type": "code",
      "metadata": {
        "colab": {
          "base_uri": "https://localhost:8080/"
        },
        "id": "F3awThBOWTYG",
        "outputId": "090b2b66-1648-4ba3-88e3-dd467778e462"
      },
      "source": [
        "x_batch = jnp.array([[1.,1.,1.,1.],[2.,2.,2.,2.],[3.,3.,3.,3.],[4.,4.,4.,4.]])\n",
        "\n",
        "print(jax.vmap(grad_f,in_axes=[None,None,0])(a,b,x_batch))\n",
        "print(jax.vmap(f,in_axes=[None,None,0])(a,b,x_batch))"
      ],
      "execution_count": 53,
      "outputs": [
        {
          "output_type": "stream",
          "text": [
            "[[2. 4. 6. 8.]\n",
            " [2. 4. 6. 8.]\n",
            " [2. 4. 6. 8.]\n",
            " [2. 4. 6. 8.]]\n",
            "[20. 40. 60. 80.]\n"
          ],
          "name": "stdout"
        }
      ]
    },
    {
      "cell_type": "code",
      "metadata": {
        "colab": {
          "base_uri": "https://localhost:8080/"
        },
        "id": "d3ILC2rTbvnz",
        "outputId": "3e96413a-1e68-4a2e-8496-1f53795dec69"
      },
      "source": [
        "f_jitted = jax.jit(f)\n",
        "f_jitted(a,b,x)"
      ],
      "execution_count": 55,
      "outputs": [
        {
          "output_type": "execute_result",
          "data": {
            "text/plain": [
              "DeviceArray(80., dtype=float32)"
            ]
          },
          "metadata": {
            "tags": []
          },
          "execution_count": 55
        }
      ]
    },
    {
      "cell_type": "code",
      "metadata": {
        "colab": {
          "base_uri": "https://localhost:8080/"
        },
        "id": "9jh3vfbccuIe",
        "outputId": "61f935de-9a44-41ba-9fd9-905cdfd7fcb0"
      },
      "source": [
        "jax.make_jaxpr(f_jitted)(a,b,x)"
      ],
      "execution_count": 57,
      "outputs": [
        {
          "output_type": "execute_result",
          "data": {
            "text/plain": [
              "{ lambda  ; a b c.\n",
              "  let d = xla_call[ backend=None\n",
              "                    call_jaxpr={ lambda  ; a b c.\n",
              "                                 let d = dot_general[ dimension_numbers=(((0,), (0,)), ((), ()))\n",
              "                                                      precision=None ] b c\n",
              "                                     e = mul a d\n",
              "                                 in (e,) }\n",
              "                    device=None\n",
              "                    donated_invars=(False, False, False)\n",
              "                    name=f ] a b c\n",
              "  in (d,) }"
            ]
          },
          "metadata": {
            "tags": []
          },
          "execution_count": 57
        }
      ]
    },
    {
      "cell_type": "code",
      "metadata": {
        "colab": {
          "base_uri": "https://localhost:8080/"
        },
        "id": "5v1j09fbc4Pf",
        "outputId": "ac74be81-28e0-4d10-b3af-841b792bf26c"
      },
      "source": [
        "jax.local_devices()"
      ],
      "execution_count": 58,
      "outputs": [
        {
          "output_type": "execute_result",
          "data": {
            "text/plain": [
              "[GpuDevice(id=0)]"
            ]
          },
          "metadata": {
            "tags": []
          },
          "execution_count": 58
        }
      ]
    },
    {
      "cell_type": "code",
      "metadata": {
        "id": "gnW4aY_ydXVV"
      },
      "source": [
        ""
      ],
      "execution_count": null,
      "outputs": []
    }
  ]
}